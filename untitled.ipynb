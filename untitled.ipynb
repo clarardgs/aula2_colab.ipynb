{
  "nbformat": 4,
  "nbformat_minor": 0,
  "metadata": {
    "colab": {
      "provenance": [],
      "authorship_tag": "ABX9TyO3zHjVqFlOMbx397ZwbQjS",
      "include_colab_link": true
    },
    "kernelspec": {
      "name": "python3",
      "display_name": "Python 3"
    },
    "language_info": {
      "name": "python"
    }
  },
  "cells": [
    {
      "cell_type": "markdown",
      "metadata": {
        "id": "view-in-github",
        "colab_type": "text"
      },
      "source": [
        "<a href=\"https://colab.research.google.com/github/clarardgs/aula2_colab.ipynb/blob/main/untitled.ipynb\" target=\"_parent\"><img src=\"https://colab.research.google.com/assets/colab-badge.svg\" alt=\"Open In Colab\"/></a>"
      ]
    },
    {
      "cell_type": "markdown",
      "source": [
        "1.Escreva um programa que receba uma frase do usuário e conte quantas vezes cada palavra aparece na frase. Em seguida, imprima um dicionário onde as chaves são as palavras e os valores são as contagens."
      ],
      "metadata": {
        "id": "OMdvorlcJUw9"
      }
    },
    {
      "cell_type": "code",
      "source": [
        "x = input(\"Digite:\")\n",
        "y = x.split(\",\")\n",
        "conty = {}\n",
        "for z in y:\n",
        "    if z in county:\n",
        "         county[z] += 1\n",
        "    else:\n",
        "         county[z] = 1\n",
        "print(\"Contagem:\")\n",
        "print(county)"
      ],
      "metadata": {
        "id": "BDEOsHGgLxx7"
      },
      "execution_count": null,
      "outputs": []
    },
    {
      "cell_type": "markdown",
      "source": [
        "2.Desenvolva um programa que atue como um trabutor simples. O programa deve conter um dicionário onde as chaves são palavras em inglês e os valores são as traduções para outro idioma (por exemplo, português). O usuário deve inserir uma palavra em inglês e o programa deve retornar sua tradução."
      ],
      "metadata": {
        "id": "HukmauL5JXAz"
      }
    },
    {
      "cell_type": "code",
      "source": [],
      "metadata": {
        "id": "vrMoJTidPVqf"
      },
      "execution_count": null,
      "outputs": []
    }
  ]
}
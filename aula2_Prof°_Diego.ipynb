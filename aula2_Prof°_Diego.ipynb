{
  "cells": [
    {
      "cell_type": "markdown",
      "metadata": {
        "id": "view-in-github",
        "colab_type": "text"
      },
      "source": [
        "<a href=\"https://colab.research.google.com/github/clarardgs/aula2_colab.ipynb/blob/main/aula2_Prof%C2%B0_Diego.ipynb\" target=\"_parent\"><img src=\"https://colab.research.google.com/assets/colab-badge.svg\" alt=\"Open In Colab\"/></a>"
      ]
    },
    {
      "cell_type": "markdown",
      "metadata": {
        "id": "BOsJWFxAwwny"
      },
      "source": [
        "ITINERÁRIO FORMATIVO.            Prof°Diego\n",
        "\n",
        "CIÊNCIA DE DADOS/PYTHON🐍"
      ]
    },
    {
      "cell_type": "markdown",
      "source": [],
      "metadata": {
        "id": "Kdbe6nlpvMdb"
      }
    },
    {
      "cell_type": "markdown",
      "metadata": {
        "id": "0ZuO9TS-pXVu"
      },
      "source": [
        "(1)A variável é o nome que se dá a um valor.Enquanto que as atribiuições é a unidade de código que o interpretador pode executar."
      ]
    },
    {
      "cell_type": "markdown",
      "metadata": {
        "id": "pWGDYvDcqw9n"
      },
      "source": [
        "\n",
        "(2)Os tipos de variáveis em python são:\n",
        "\n",
        "• DO TIPO INTEIRO(INT)\n",
        "\n",
        "esta afunção converte um dado string para um número inteiro.\n",
        "\n",
        "• PONTO FLUTUANTE OU DECIMAL (FLOAT)\n",
        "\n",
        "esta converte um dado string para um Ponto Flutuante ou Decimal\n",
        "\n",
        "• STRING (STR)\n",
        "\n",
        "ela converte um dado (int) e (float) para String.\n",
        "\n",
        "• BOOLEAN (BOOL)\n",
        "\n",
        "É um dado que possui valores que podem ser considerados como 0 ou 1,falso ou verdadeiro"
      ]
    },
    {
      "cell_type": "markdown",
      "metadata": {
        "id": "vX1LRYGurkUx"
      },
      "source": [
        "(3) Para printar \"olá mundo\",basta colocar: print \"olá mundo\""
      ]
    },
    {
      "cell_type": "code",
      "execution_count": null,
      "metadata": {
        "colab": {
          "base_uri": "https://localhost:8080/"
        },
        "id": "p86D5WE6o_V_",
        "outputId": "ca0d7cf6-d347-4322-9792-c93561bb8e83"
      },
      "outputs": [
        {
          "name": "stdout",
          "output_type": "stream",
          "text": [
            "olá mundo\n"
          ]
        }
      ],
      "source": [
        "print (\"olá mundo\")"
      ]
    },
    {
      "cell_type": "markdown",
      "metadata": {
        "id": "UwAfdD79sd3X"
      },
      "source": [
        "(4) para solicitar a entrada do usuário em python terá que usar a função input\n",
        "ex:"
      ]
    },
    {
      "cell_type": "code",
      "execution_count": 14,
      "metadata": {
        "id": "_J2PHENtttsM",
        "colab": {
          "base_uri": "https://localhost:8080/"
        },
        "outputId": "0e5c6464-7026-445f-dbe2-03c8449c5db4"
      },
      "outputs": [
        {
          "name": "stdout",
          "output_type": "stream",
          "text": [
            "qual a sua idade?16\n"
          ]
        }
      ],
      "source": [
        "idade=input(\"qual a sua idade?\")"
      ]
    },
    {
      "cell_type": "markdown",
      "metadata": {
        "id": "9J3o3k3au6O1"
      },
      "source": [
        "(5)CALCULADORA EM PYTHON"
      ]
    },
    {
      "cell_type": "code",
      "execution_count": 13,
      "metadata": {
        "id": "XyJUuN12u_QD",
        "colab": {
          "base_uri": "https://localhost:8080/"
        },
        "outputId": "367f2013-26c0-4065-d514-59cb48bedb0c"
      },
      "outputs": [
        {
          "output_type": "stream",
          "name": "stdout",
          "text": [
            "Digite o número 1:2\n",
            "Digite o número 2:2\n",
            "Digite a operação: +\n",
            "4\n"
          ]
        }
      ],
      "source": [
        "numero1 = int(input('Digite o número 1:'))\n",
        "numero2 = int(input('Digite o número 2:'))\n",
        "operacao = (input('Digite a operação: '))\n",
        "\n",
        "if operacao == '+':\n",
        "   print(numero1 + numero2)\n",
        "elif operacao == '-':\n",
        "   print(numero1 - numero2)\n",
        "elif operacao == '*':\n",
        "   print(numero1 * numero2)\n",
        "elif operacao == '/':\n",
        "   print(numero1 / numero2)"
      ]
    },
    {
      "cell_type": "markdown",
      "metadata": {
        "id": "LmWTsVyevsz2"
      },
      "source": [
        "QUESTÃO EXTRA"
      ]
    },
    {
      "cell_type": "code",
      "execution_count": null,
      "metadata": {
        "colab": {
          "base_uri": "https://localhost:8080/"
        },
        "id": "OCh8IdjSOTMJ",
        "outputId": "6ac9a3cd-a340-4d9c-e03c-6df27811817a"
      },
      "outputs": [
        {
          "name": "stdout",
          "output_type": "stream",
          "text": [
            "Qual o último algarismo da placa do automóvel?1\n",
            "Carros com o último algarismo sendo estes,podem circular apenas na Segunda-Feira.\n"
          ]
        }
      ],
      "source": [
        "placas = int(input(\"Qual o último algarismo da placa do automóvel?\" ))\n",
        "\n",
        "if placas == 1 or 2:\n",
        "  print(\"Carros com o último algarismo sendo estes,podem circular apenas na Segunda-Feira.\")\n",
        "\n",
        "elif placas == 3 or 4:\n",
        "  print(\"Carros com o último algarismo sendo estes,podem circular apenas na Terça-Feira.\")\n",
        "\n",
        "elif placas == 5 or 6:\n",
        "  print(\"Carros com o último algarismo sendo estes,podem circular apenas na Quarta-Feira.\")\n",
        "\n",
        "elif placas == 7 or 8:\n",
        "  print(\"Carros com o último algarismo sendo estes,podem circular apenas na Quinta-Feira.\")\n",
        "\n",
        "elif placas == 9 or 10:\n",
        "  print(\"Carros com o último algarismo sendo estes,podem circular apenas na Sexta-Feira.\")"
      ]
    }
  ],
  "metadata": {
    "colab": {
      "provenance": [],
      "authorship_tag": "ABX9TyMEwoZIg0N2gMehzUuf+77M",
      "include_colab_link": true
    },
    "kernelspec": {
      "display_name": "Python 3",
      "name": "python3"
    },
    "language_info": {
      "name": "python"
    }
  },
  "nbformat": 4,
  "nbformat_minor": 0
}